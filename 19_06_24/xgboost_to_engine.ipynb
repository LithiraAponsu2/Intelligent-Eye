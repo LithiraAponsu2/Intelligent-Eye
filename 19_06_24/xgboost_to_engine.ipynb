{
 "cells": [
  {
   "cell_type": "code",
   "execution_count": 2,
   "metadata": {},
   "outputs": [
    {
     "ename": "ImportError",
     "evalue": "cannot import name 'constants' from 'onnxmltools.convert.xgboost.operator_converters' (/home/lithira/.local/lib/python3.10/site-packages/onnxmltools/convert/xgboost/operator_converters/__init__.py)",
     "output_type": "error",
     "traceback": [
      "\u001b[0;31m---------------------------------------------------------------------------\u001b[0m",
      "\u001b[0;31mImportError\u001b[0m                               Traceback (most recent call last)",
      "Cell \u001b[0;32mIn[2], line 7\u001b[0m\n\u001b[1;32m      5\u001b[0m \u001b[38;5;28;01mimport\u001b[39;00m \u001b[38;5;21;01mpickle\u001b[39;00m\n\u001b[1;32m      6\u001b[0m \u001b[38;5;28;01mfrom\u001b[39;00m \u001b[38;5;21;01monnxmltools\u001b[39;00m\u001b[38;5;21;01m.\u001b[39;00m\u001b[38;5;21;01mconvert\u001b[39;00m\u001b[38;5;21;01m.\u001b[39;00m\u001b[38;5;21;01mxgboost\u001b[39;00m \u001b[38;5;28;01mimport\u001b[39;00m convert \u001b[38;5;28;01mas\u001b[39;00m convert_xgboost\n\u001b[0;32m----> 7\u001b[0m \u001b[38;5;28;01mfrom\u001b[39;00m \u001b[38;5;21;01monnxmltools\u001b[39;00m\u001b[38;5;21;01m.\u001b[39;00m\u001b[38;5;21;01mconvert\u001b[39;00m\u001b[38;5;21;01m.\u001b[39;00m\u001b[38;5;21;01mxgboost\u001b[39;00m\u001b[38;5;21;01m.\u001b[39;00m\u001b[38;5;21;01moperator_converters\u001b[39;00m \u001b[38;5;28;01mimport\u001b[39;00m constants\n\u001b[1;32m      9\u001b[0m \u001b[38;5;66;03m# # Generate a synthetic dataset\u001b[39;00m\n\u001b[1;32m     10\u001b[0m \u001b[38;5;66;03m# X, y = make_classification(n_samples=100, n_features=20, random_state=42)\u001b[39;00m\n\u001b[1;32m     11\u001b[0m \n\u001b[1;32m     12\u001b[0m \u001b[38;5;66;03m# # Fit an XGBoost model\u001b[39;00m\n\u001b[1;32m     13\u001b[0m \u001b[38;5;66;03m# model = XGBClassifier(eval_metric='logloss')\u001b[39;00m\n\u001b[1;32m     14\u001b[0m \u001b[38;5;66;03m# model.fit(X, y)\u001b[39;00m\n\u001b[1;32m     16\u001b[0m input_shape \u001b[38;5;241m=\u001b[39m [\u001b[38;5;28;01mNone\u001b[39;00m, \u001b[38;5;241m8\u001b[39m]  \u001b[38;5;66;03m# [batch_size, num_features]\u001b[39;00m\n",
      "\u001b[0;31mImportError\u001b[0m: cannot import name 'constants' from 'onnxmltools.convert.xgboost.operator_converters' (/home/lithira/.local/lib/python3.10/site-packages/onnxmltools/convert/xgboost/operator_converters/__init__.py)"
     ]
    }
   ],
   "source": [
    "from sklearn.datasets import make_classification\n",
    "from xgboost import XGBClassifier\n",
    "import onnxmltools\n",
    "from onnxconverter_common.data_types import FloatTensorType\n",
    "import pickle\n",
    "from onnxmltools.convert.xgboost import convert as convert_xgboost\n",
    "from onnxmltools.convert.xgboost.operator_converters import constants\n",
    "\n",
    "# # Generate a synthetic dataset\n",
    "# X, y = make_classification(n_samples=100, n_features=20, random_state=42)\n",
    "\n",
    "# # Fit an XGBoost model\n",
    "# model = XGBClassifier(eval_metric='logloss')\n",
    "# model.fit(X, y)\n",
    "\n",
    "input_shape = [None, 8]  # [batch_size, num_features]\n",
    "\n",
    "model = pickle.load(open(\"finalized_model_xg.sav\", 'rb'))\n",
    "\n",
    "# # Convert the XGBoost model to ONNX format\n",
    "# onnx_model = onnxmltools.convert_xgboost(model, initial_types=[('input', FloatTensorType([None, X.shape[1]]))])\n",
    "\n",
    "# Example feature names that conform to 'f%d' pattern\n",
    "feature_names = [f'f{i}' for i in range(len(data))]\n",
    "\n",
    "# Convert XGBoost model to ONNX format\n",
    "onnx_model = convert_xgboost(model, initial_types=[('input', FloatTensorType([None, len(data)]))], \n",
    "                             options={constants.PY2ONNX_OPTIONS: {constants.PY2ONNX_OPTION_FEATURE_NAMES: feature_names}})\n",
    "\n",
    "# Save the ONNX model\n",
    "with open(\"violation.onnx\", \"wb\") as f:\n",
    "    f.write(onnx_model.SerializeToString())"
   ]
  },
  {
   "cell_type": "code",
   "execution_count": 2,
   "metadata": {},
   "outputs": [
    {
     "name": "stdout",
     "output_type": "stream",
     "text": [
      "ONNX model saved to violation.onnx\n"
     ]
    }
   ],
   "source": [
    "import onnxmltools\n",
    "from onnxmltools.convert import convert_xgboost\n",
    "from onnxmltools.convert.common.data_types import FloatTensorType\n",
    "import pickle\n",
    "import joblib\n",
    "\n",
    "# Load the saved model\n",
    "model_file = \"xgb_model.pkl\"\n",
    "model = joblib.load(model_file)\n",
    "\n",
    "# Manually define the number of features\n",
    "# Replace this with the actual number of features used during training\n",
    "num_features = 8  # Replace with the correct number of features\n",
    "\n",
    "# Define the input shape based on the number of features\n",
    "initial_type = [('input', FloatTensorType([None, num_features]))]\n",
    "\n",
    "# Convert XGBoost model to ONNX format\n",
    "onnx_model = convert_xgboost(model, initial_types=initial_type)\n",
    "\n",
    "# Save the ONNX model\n",
    "onnx_filename = \"violation.onnx\"\n",
    "with open(onnx_filename, \"wb\") as f:\n",
    "    f.write(onnx_model.SerializeToString())\n",
    "\n",
    "print(f\"ONNX model saved to {onnx_filename}\")\n"
   ]
  },
  {
   "cell_type": "code",
   "execution_count": null,
   "metadata": {},
   "outputs": [],
   "source": []
  },
  {
   "cell_type": "code",
   "execution_count": null,
   "metadata": {},
   "outputs": [],
   "source": []
  },
  {
   "cell_type": "code",
   "execution_count": null,
   "metadata": {},
   "outputs": [],
   "source": []
  },
  {
   "cell_type": "code",
   "execution_count": null,
   "metadata": {},
   "outputs": [],
   "source": []
  }
 ],
 "metadata": {
  "kernelspec": {
   "display_name": "Python 3",
   "language": "python",
   "name": "python3"
  },
  "language_info": {
   "codemirror_mode": {
    "name": "ipython",
    "version": 3
   },
   "file_extension": ".py",
   "mimetype": "text/x-python",
   "name": "python",
   "nbconvert_exporter": "python",
   "pygments_lexer": "ipython3",
   "version": "3.10.12"
  }
 },
 "nbformat": 4,
 "nbformat_minor": 2
}
