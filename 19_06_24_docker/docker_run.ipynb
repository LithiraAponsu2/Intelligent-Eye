{
 "cells": [
  {
   "cell_type": "code",
   "execution_count": null,
   "metadata": {},
   "outputs": [],
   "source": [
    "import requests\n",
    "\n",
    "# Define the URL to the Flask server\n",
    "url = 'http://localhost:5000/process_video'\n",
    "\n",
    "# Path to the video file you want to upload\n",
    "video_path = 'path_to_your_video_file.mp4'\n",
    "\n",
    "# Open the video file in binary mode\n",
    "with open(video_path, 'rb') as video_file:\n",
    "    # Create a dictionary to hold the file data\n",
    "    files = {'video': video_file}\n",
    "    \n",
    "    # Send a POST request with the video file\n",
    "    response = requests.post(url, files=files)\n",
    "\n",
    "# Print the server's response\n",
    "print(response.status_code)\n",
    "print(response.text)\n"
   ]
  }
 ],
 "metadata": {
  "kernelspec": {
   "display_name": "Python 3",
   "language": "python",
   "name": "python3"
  },
  "language_info": {
   "name": "python",
   "version": "3.10.12"
  }
 },
 "nbformat": 4,
 "nbformat_minor": 2
}
