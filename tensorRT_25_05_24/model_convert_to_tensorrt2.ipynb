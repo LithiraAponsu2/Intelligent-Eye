{
 "cells": [
  {
   "cell_type": "code",
   "execution_count": 2,
   "metadata": {},
   "outputs": [],
   "source": [
    "from ultralytics import YOLO\n",
    "\n",
    "# Load the YOLOv8 model\n",
    "model = YOLO(\"yolov8x-seg.pt\")\n"
   ]
  },
  {
   "cell_type": "code",
   "execution_count": 3,
   "metadata": {},
   "outputs": [
    {
     "name": "stdout",
     "output_type": "stream",
     "text": [
      "WARNING ⚠️ TensorRT requires GPU export, automatically assigning device=0\n",
      "Ultralytics YOLOv8.2.21 🚀 Python-3.10.12 torch-2.1.0+cu121 CUDA:0 (NVIDIA GeForce RTX 3060 Laptop GPU, 6144MiB)\n",
      "YOLOv8x-seg summary (fused): 295 layers, 71797696 parameters, 0 gradients, 344.1 GFLOPs\n",
      "\n",
      "\u001b[34m\u001b[1mPyTorch:\u001b[0m starting from 'yolov8x-seg.pt' with input shape (1, 3, 640, 640) BCHW and output shape(s) ((1, 116, 8400), (1, 32, 160, 160)) (137.4 MB)\n",
      "\n",
      "\u001b[34m\u001b[1mONNX:\u001b[0m starting export with onnx 1.16.1 opset 17...\n",
      "\u001b[34m\u001b[1mONNX:\u001b[0m simplifying with onnxsim 0.4.36...\n",
      "\u001b[34m\u001b[1mONNX:\u001b[0m export success ✅ 8.5s, saved as 'yolov8x-seg.onnx' (274.1 MB)\n",
      "\n",
      "\u001b[34m\u001b[1mTensorRT:\u001b[0m starting export with TensorRT 10.0.1...\n",
      "[05/25/2024-16:17:25] [TRT] [I] [MemUsageChange] Init CUDA: CPU +2, GPU +0, now: CPU 1238, GPU 2121 (MiB)\n",
      "[05/25/2024-16:17:29] [TRT] [I] [MemUsageChange] Init builder kernel library: CPU +1765, GPU +310, now: CPU 3138, GPU 2431 (MiB)\n",
      "[05/25/2024-16:17:30] [TRT] [I] ----------------------------------------------------------------\n",
      "[05/25/2024-16:17:30] [TRT] [I] Input filename:   yolov8x-seg.onnx\n",
      "[05/25/2024-16:17:30] [TRT] [I] ONNX IR version:  0.0.8\n",
      "[05/25/2024-16:17:30] [TRT] [I] Opset version:    17\n",
      "[05/25/2024-16:17:30] [TRT] [I] Producer name:    pytorch\n",
      "[05/25/2024-16:17:30] [TRT] [I] Producer version: 2.1.0\n",
      "[05/25/2024-16:17:30] [TRT] [I] Domain:           \n",
      "[05/25/2024-16:17:30] [TRT] [I] Model version:    0\n",
      "[05/25/2024-16:17:30] [TRT] [I] Doc string:       \n",
      "[05/25/2024-16:17:30] [TRT] [I] ----------------------------------------------------------------\n",
      "\u001b[34m\u001b[1mTensorRT:\u001b[0m input \"images\" with shape(1, 3, 640, 640) DataType.FLOAT\n",
      "\u001b[34m\u001b[1mTensorRT:\u001b[0m output \"output0\" with shape(1, 116, 8400) DataType.FLOAT\n",
      "\u001b[34m\u001b[1mTensorRT:\u001b[0m output \"output1\" with shape(1, 32, 160, 160) DataType.FLOAT\n",
      "\u001b[34m\u001b[1mTensorRT:\u001b[0m building FP16 engine as yolov8x-seg.engine\n",
      "[05/25/2024-16:17:30] [TRT] [I] Local timing cache in use. Profiling results in this builder pass will not be stored.\n",
      "[05/25/2024-16:22:11] [TRT] [I] Detected 1 inputs and 5 output network tensors.\n",
      "[05/25/2024-16:22:20] [TRT] [I] Total Host Persistent Memory: 680560\n",
      "[05/25/2024-16:22:20] [TRT] [I] Total Device Persistent Memory: 104960\n",
      "[05/25/2024-16:22:20] [TRT] [I] Total Scratch Memory: 4608\n",
      "[05/25/2024-16:22:20] [TRT] [I] [BlockAssignment] Started assigning block shifts. This will take 187 steps to complete.\n",
      "[05/25/2024-16:22:20] [TRT] [I] [BlockAssignment] Algorithm ShiftNTopDown took 19.7131ms to assign 15 blocks to 187 nodes requiring 66562560 bytes.\n",
      "[05/25/2024-16:22:20] [TRT] [I] Total Activation Memory: 66560000\n",
      "[05/25/2024-16:22:20] [TRT] [I] Total Weights Memory: 144014880\n",
      "[05/25/2024-16:22:20] [TRT] [I] Engine generation completed in 289.833 seconds.\n",
      "[05/25/2024-16:22:20] [TRT] [I] [MemUsageStats] Peak memory usage of TRT CPU/GPU memory allocators: CPU 7 MiB, GPU 261 MiB\n",
      "[05/25/2024-16:22:20] [TRT] [I] [MemUsageStats] Peak memory usage during Engine building and serialization: CPU: 4979 MiB\n",
      "\u001b[34m\u001b[1mTensorRT:\u001b[0m export success ✅ 304.7s, saved as 'yolov8x-seg.engine' (141.6 MB)\n",
      "\n",
      "Export complete (307.5s)\n",
      "Results saved to \u001b[1m/home/lithira/Project1/tensorRT_25_05_24\u001b[0m\n",
      "Predict:         yolo predict task=segment model=yolov8x-seg.engine imgsz=640 half \n",
      "Validate:        yolo val task=segment model=yolov8x-seg.engine imgsz=640 data=coco.yaml half \n",
      "Visualize:       https://netron.app\n"
     ]
    },
    {
     "data": {
      "text/plain": [
       "'yolov8x-seg.engine'"
      ]
     },
     "execution_count": 3,
     "metadata": {},
     "output_type": "execute_result"
    },
    {
     "ename": "",
     "evalue": "",
     "output_type": "error",
     "traceback": [
      "\u001b[1;31mThe Kernel crashed while executing code in the current cell or a previous cell. \n",
      "\u001b[1;31mPlease review the code in the cell(s) to identify a possible cause of the failure. \n",
      "\u001b[1;31mClick <a href='https://aka.ms/vscodeJupyterKernelCrash'>here</a> for more info. \n",
      "\u001b[1;31mView Jupyter <a href='command:jupyter.viewOutput'>log</a> for further details."
     ]
    }
   ],
   "source": [
    "# Export the model to TensorRT format\n",
    "model.export(format=\"engine\", half=True)"
   ]
  },
  {
   "cell_type": "code",
   "execution_count": null,
   "metadata": {},
   "outputs": [],
   "source": []
  }
 ],
 "metadata": {
  "kernelspec": {
   "display_name": "Python 3",
   "language": "python",
   "name": "python3"
  },
  "language_info": {
   "codemirror_mode": {
    "name": "ipython",
    "version": 3
   },
   "file_extension": ".py",
   "mimetype": "text/x-python",
   "name": "python",
   "nbconvert_exporter": "python",
   "pygments_lexer": "ipython3",
   "version": "3.10.12"
  }
 },
 "nbformat": 4,
 "nbformat_minor": 2
}
