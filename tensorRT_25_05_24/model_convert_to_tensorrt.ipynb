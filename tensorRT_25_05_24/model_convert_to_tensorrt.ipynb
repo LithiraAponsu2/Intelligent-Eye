{
 "cells": [
  {
   "cell_type": "code",
   "execution_count": 4,
   "metadata": {},
   "outputs": [
    {
     "name": "stdout",
     "output_type": "stream",
     "text": [
      "10.0.1\n"
     ]
    }
   ],
   "source": [
    "import tensorrt\n",
    "print(tensorrt.__version__)\n",
    "assert tensorrt.Builder(tensorrt.Logger())"
   ]
  },
  {
   "cell_type": "code",
   "execution_count": 2,
   "metadata": {},
   "outputs": [
    {
     "name": "stdout",
     "output_type": "stream",
     "text": [
      "Ultralytics YOLOv8.0.231 🚀 Python-3.10.12 torch-2.1.0+cu121 CUDA:0 (NVIDIA GeForce RTX 3060 Laptop GPU, 6144MiB)\n",
      "Setup complete ✅ (16 CPUs, 7.5 GB RAM, 98.6/1006.9 GB disk)\n"
     ]
    }
   ],
   "source": [
    "import ultralytics\n",
    "ultralytics.checks()"
   ]
  },
  {
   "cell_type": "code",
   "execution_count": 3,
   "metadata": {},
   "outputs": [
    {
     "name": "stdout",
     "output_type": "stream",
     "text": [
      "Ultralytics YOLOv8.0.231 🚀 Python-3.10.12 torch-2.1.0+cu121 CUDA:0 (NVIDIA GeForce RTX 3060 Laptop GPU, 6144MiB)\n",
      "YOLOv8x-seg summary (fused): 295 layers, 71797696 parameters, 0 gradients, 344.1 GFLOPs\n",
      "\n",
      "\u001b[34m\u001b[1mPyTorch:\u001b[0m starting from 'yolov8x-seg.pt' with input shape (1, 3, 640, 640) BCHW and output shape(s) ((1, 116, 8400), (1, 32, 160, 160)) (137.4 MB)\n",
      "\n",
      "\u001b[34m\u001b[1mONNX:\u001b[0m starting export with onnx 1.16.1 opset 17...\n",
      "\u001b[34m\u001b[1mONNX:\u001b[0m export success ✅ 3.0s, saved as 'yolov8x-seg.onnx' (137.1 MB)\n",
      "\n",
      "\u001b[34m\u001b[1mTensorRT:\u001b[0m starting export with TensorRT 10.0.1...\n",
      "[05/25/2024-14:57:19] [TRT] [I] [MemUsageChange] Init CUDA: CPU +2, GPU +0, now: CPU 1360, GPU 2131 (MiB)\n",
      "[05/25/2024-14:57:24] [TRT] [I] [MemUsageChange] Init builder kernel library: CPU +1764, GPU +310, now: CPU 3260, GPU 2441 (MiB)\n",
      "\u001b[34m\u001b[1mTensorRT:\u001b[0m export failure ❌ 8.1s: 'tensorrt_bindings.tensorrt.IBuilderConfig' object has no attribute 'max_workspace_size'\n",
      "Traceback (most recent call last):\n",
      "  File \"/home/lithira/.local/bin/yolo\", line 8, in <module>\n",
      "    sys.exit(entrypoint())\n",
      "  File \"/home/lithira/.local/lib/python3.10/site-packages/ultralytics/cfg/__init__.py\", line 448, in entrypoint\n",
      "    getattr(model, mode)(**overrides)  # default args from model\n",
      "  File \"/home/lithira/.local/lib/python3.10/site-packages/ultralytics/engine/model.py\", line 328, in export\n",
      "    return Exporter(overrides=args, _callbacks=self.callbacks)(model=self.model)\n",
      "  File \"/home/lithira/.local/lib/python3.10/site-packages/torch/utils/_contextlib.py\", line 115, in decorate_context\n",
      "    return func(*args, **kwargs)\n",
      "  File \"/home/lithira/.local/lib/python3.10/site-packages/ultralytics/engine/exporter.py\", line 254, in __call__\n",
      "    f[1], _ = self.export_engine()\n",
      "  File \"/home/lithira/.local/lib/python3.10/site-packages/ultralytics/engine/exporter.py\", line 122, in outer_func\n",
      "    raise e\n",
      "  File \"/home/lithira/.local/lib/python3.10/site-packages/ultralytics/engine/exporter.py\", line 117, in outer_func\n",
      "    f, model = inner_func(*args, **kwargs)\n",
      "  File \"/home/lithira/.local/lib/python3.10/site-packages/ultralytics/engine/exporter.py\", line 604, in export_engine\n",
      "    config.max_workspace_size = self.args.workspace * 1 << 30\n",
      "AttributeError: 'tensorrt_bindings.tensorrt.IBuilderConfig' object has no attribute 'max_workspace_size'\n"
     ]
    }
   ],
   "source": [
    "!yolo export model=yolov8x-seg.pt format=engine half=True device=0 workspace=12"
   ]
  },
  {
   "cell_type": "code",
   "execution_count": null,
   "metadata": {},
   "outputs": [],
   "source": []
  }
 ],
 "metadata": {
  "kernelspec": {
   "display_name": "Python 3",
   "language": "python",
   "name": "python3"
  },
  "language_info": {
   "codemirror_mode": {
    "name": "ipython",
    "version": 3
   },
   "file_extension": ".py",
   "mimetype": "text/x-python",
   "name": "python",
   "nbconvert_exporter": "python",
   "pygments_lexer": "ipython3",
   "version": "3.10.12"
  }
 },
 "nbformat": 4,
 "nbformat_minor": 2
}
