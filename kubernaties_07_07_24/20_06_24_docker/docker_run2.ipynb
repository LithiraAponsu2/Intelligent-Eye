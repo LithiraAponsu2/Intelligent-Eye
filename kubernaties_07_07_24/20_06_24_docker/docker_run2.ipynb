{
 "cells": [
  {
   "cell_type": "code",
   "execution_count": 2,
   "metadata": {},
   "outputs": [
    {
     "name": "stdout",
     "output_type": "stream",
     "text": [
      "200\n",
      "Processing completed.\n"
     ]
    }
   ],
   "source": [
    "import requests\n",
    "\n",
    "# Define the URL to the Flask server\n",
    "url = 'http://localhost:6000/process_video'\n",
    "\n",
    "# Path to the video file you want to upload\n",
    "video_path = 'show.mp4'\n",
    "\n",
    "# Open the video file in binary mode\n",
    "with open(video_path, 'rb') as video_file:\n",
    "    # Create a dictionary to hold the file data\n",
    "    files = {'video': video_file}\n",
    "    \n",
    "    # Send a POST request with the video file\n",
    "    response = requests.post(url, files=files)\n",
    "\n",
    "# Print the server's response\n",
    "print(response.status_code)\n",
    "print(response.text)\n"
   ]
  },
  {
   "cell_type": "code",
   "execution_count": null,
   "metadata": {},
   "outputs": [],
   "source": []
  }
 ],
 "metadata": {
  "kernelspec": {
   "display_name": "Python 3",
   "language": "python",
   "name": "python3"
  },
  "language_info": {
   "codemirror_mode": {
    "name": "ipython",
    "version": 3
   },
   "file_extension": ".py",
   "mimetype": "text/x-python",
   "name": "python",
   "nbconvert_exporter": "python",
   "pygments_lexer": "ipython3",
   "version": "3.10.12"
  }
 },
 "nbformat": 4,
 "nbformat_minor": 2
}
